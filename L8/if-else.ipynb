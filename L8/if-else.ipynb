{
 "cells": [
  {
   "cell_type": "markdown",
   "id": "bc5beaa6",
   "metadata": {},
   "source": [
    "# if-else statement <hr style=\"border:2.5px solid #FF69B4\"></hr>"
   ]
  },
  {
   "cell_type": "markdown",
   "id": "9efd2d44",
   "metadata": {},
   "source": [
    "Data Analyst: Rosemae A. Samillano <br>\n",
    "Department: Electrical Engineering"
   ]
  },
  {
   "cell_type": "markdown",
   "id": "1b48afa9",
   "metadata": {},
   "source": [
    "# if statement"
   ]
  },
  {
   "cell_type": "code",
   "execution_count": 1,
   "id": "490386b3",
   "metadata": {},
   "outputs": [
    {
     "name": "stdout",
     "output_type": "stream",
     "text": [
      "pasar ko!\n"
     ]
    }
   ],
   "source": [
    "# Passing score is 5.0\n",
    "grade = 5.1\n",
    "if grade >= 5.0:\n",
    "    print(\"pasar ko!\")"
   ]
  },
  {
   "cell_type": "code",
   "execution_count": 10,
   "id": "c9c665b5",
   "metadata": {},
   "outputs": [
    {
     "name": "stdout",
     "output_type": "stream",
     "text": [
      "pasar ko!\n"
     ]
    }
   ],
   "source": [
    "# two if statements are evaluated\n",
    "grade = 7.5\n",
    "\n",
    "# evaluate grade\n",
    "if grade >= 5.0:\n",
    "    print(\"pasar ko!\")\n",
    "\n",
    "if grade < 5.0:\n",
    "    print(\"FAILED!\")"
   ]
  },
  {
   "cell_type": "markdown",
   "id": "5b027d60",
   "metadata": {},
   "source": [
    "# if-else statement"
   ]
  },
  {
   "cell_type": "code",
   "execution_count": 6,
   "id": "e754edc3",
   "metadata": {},
   "outputs": [
    {
     "name": "stdout",
     "output_type": "stream",
     "text": [
      "FAILED!\n"
     ]
    }
   ],
   "source": [
    "# if grade >= 5.0 is True,'else' will not be evaluated\n",
    "grade = 4.0\n",
    "\n",
    "# evaluate grade\n",
    "if grade >= 5.0:\n",
    "    print(\"pasar ko!\")\n",
    "\n",
    "else:\n",
    "    print(\"FAILED!\")"
   ]
  },
  {
   "cell_type": "markdown",
   "id": "4b570115",
   "metadata": {},
   "source": [
    "# if-elif-else statement"
   ]
  },
  {
   "cell_type": "code",
   "execution_count": 7,
   "id": "53ec68aa",
   "metadata": {},
   "outputs": [
    {
     "name": "stdout",
     "output_type": "stream",
     "text": [
      "FAILED!\n"
     ]
    }
   ],
   "source": [
    "# if grade >= 5.0 is True,'others' will not be evaluated\n",
    "grade = 2.9\n",
    "\n",
    "# evaluate grade\n",
    "if grade >= 5.0:\n",
    "    print(\"pasar ko!\")\n",
    "elif grade < 5.0:\n",
    "    print(\"FAILED!\")\n",
    "elif grade < 3.0:\n",
    "    print(\"DISMISSED!\")\n",
    "else:\n",
    "    print(\"INVALID!\")"
   ]
  },
  {
   "cell_type": "code",
   "execution_count": 8,
   "id": "0e5c1b01",
   "metadata": {},
   "outputs": [
    {
     "name": "stdout",
     "output_type": "stream",
     "text": [
      "DISMISSED!\n"
     ]
    }
   ],
   "source": [
    "# if grade >= 5.0 is True,'others' will not be evaluated\n",
    "grade = 2.9\n",
    "\n",
    "# evaluate grade\n",
    "if grade >= 5.0:\n",
    "    print(\"pasar ko!\")\n",
    "elif grade < 3.0: # < 3.0 evaluated first\n",
    "    print(\"DISMISSED!\")\n",
    "elif grade < 5.0:\n",
    "   print(\"FAILED!\")\n",
    "else:\n",
    "    print(\"INVALID!\")\n"
   ]
  }
 ],
 "metadata": {
  "kernelspec": {
   "display_name": "Python 3",
   "language": "python",
   "name": "python3"
  },
  "language_info": {
   "codemirror_mode": {
    "name": "ipython",
    "version": 3
   },
   "file_extension": ".py",
   "mimetype": "text/x-python",
   "name": "python",
   "nbconvert_exporter": "python",
   "pygments_lexer": "ipython3",
   "version": "3.13.2"
  }
 },
 "nbformat": 4,
 "nbformat_minor": 5
}
