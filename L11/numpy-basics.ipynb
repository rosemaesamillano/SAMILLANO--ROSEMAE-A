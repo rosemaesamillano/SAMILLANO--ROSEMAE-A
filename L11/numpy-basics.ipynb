{
 "cells": [
  {
   "cell_type": "markdown",
   "id": "3f01a233",
   "metadata": {},
   "source": [
    "# Numpy Basics <hr style=\"border:2.5px solid #FF69B4 \"></hr>"
   ]
  },
  {
   "cell_type": "markdown",
   "id": "9006ccd6",
   "metadata": {},
   "source": [
    "Data Analyst: Rosemae A. Samillano <br>\n",
    "Department: Electrical Engineering"
   ]
  },
  {
   "cell_type": "code",
   "execution_count": 3,
   "id": "87b042e6",
   "metadata": {},
   "outputs": [],
   "source": [
    "# imports and packages\n",
    "import numpy as np\n",
    "from scipy import stats"
   ]
  },
  {
   "cell_type": "markdown",
   "id": "6f101639",
   "metadata": {},
   "source": [
    "# 1D Array"
   ]
  },
  {
   "cell_type": "code",
   "execution_count": 7,
   "id": "70c33c20",
   "metadata": {},
   "outputs": [
    {
     "data": {
      "text/plain": [
       "array([1, 2, 3])"
      ]
     },
     "execution_count": 7,
     "metadata": {},
     "output_type": "execute_result"
    }
   ],
   "source": [
    "array_a = np.array([1,2,3])\n",
    "array_a"
   ]
  },
  {
   "cell_type": "markdown",
   "id": "db84ec43",
   "metadata": {},
   "source": [
    "# 2D Array"
   ]
  },
  {
   "cell_type": "code",
   "execution_count": 14,
   "id": "ef34b69e",
   "metadata": {},
   "outputs": [
    {
     "data": {
      "text/plain": [
       "array([[1, 2, 3],\n",
       "       [4, 5, 6]])"
      ]
     },
     "execution_count": 14,
     "metadata": {},
     "output_type": "execute_result"
    }
   ],
   "source": [
    "my_array = np.array([\n",
    "    [1,2,3],\n",
    "    [4,5,6]\n",
    "])\n",
    "my_array"
   ]
  },
  {
   "cell_type": "code",
   "execution_count": 15,
   "id": "67c6e65c",
   "metadata": {},
   "outputs": [
    {
     "data": {
      "text/plain": [
       "array([[1, 4],\n",
       "       [2, 5],\n",
       "       [3, 6]])"
      ]
     },
     "execution_count": 15,
     "metadata": {},
     "output_type": "execute_result"
    }
   ],
   "source": [
    "my_array = my_array.T\n",
    "my_array"
   ]
  },
  {
   "cell_type": "code",
   "execution_count": 16,
   "id": "bbbb1a87",
   "metadata": {},
   "outputs": [
    {
     "data": {
      "text/plain": [
       "array([ 6, 15])"
      ]
     },
     "execution_count": 16,
     "metadata": {},
     "output_type": "execute_result"
    }
   ],
   "source": [
    "np.sum(my_array, axis = 0)"
   ]
  },
  {
   "cell_type": "code",
   "execution_count": 17,
   "id": "915e8044",
   "metadata": {},
   "outputs": [
    {
     "data": {
      "text/plain": [
       "array([5, 7, 9])"
      ]
     },
     "execution_count": 17,
     "metadata": {},
     "output_type": "execute_result"
    }
   ],
   "source": [
    "np.sum(my_array, axis = 1)"
   ]
  },
  {
   "cell_type": "markdown",
   "id": "44688153",
   "metadata": {},
   "source": [
    "# Measures of Central Tendency"
   ]
  },
  {
   "cell_type": "code",
   "execution_count": 4,
   "id": "c93b669a",
   "metadata": {},
   "outputs": [],
   "source": [
    " fruits = np.array([120,60,85,150,200])"
   ]
  },
  {
   "cell_type": "code",
   "execution_count": 5,
   "id": "fa042af8",
   "metadata": {},
   "outputs": [
    {
     "data": {
      "text/plain": [
       "np.float64(123.0)"
      ]
     },
     "execution_count": 5,
     "metadata": {},
     "output_type": "execute_result"
    }
   ],
   "source": [
    "fruits_mean = np.mean(fruits)\n",
    "fruits_mean"
   ]
  },
  {
   "cell_type": "code",
   "execution_count": 6,
   "id": "a1e5b6ea",
   "metadata": {},
   "outputs": [
    {
     "data": {
      "text/plain": [
       "np.float64(120.0)"
      ]
     },
     "execution_count": 6,
     "metadata": {},
     "output_type": "execute_result"
    }
   ],
   "source": [
    "median_fruits = np.median(fruits)\n",
    "median_fruits"
   ]
  },
  {
   "cell_type": "code",
   "execution_count": 19,
   "id": "4ad1f779",
   "metadata": {},
   "outputs": [
    {
     "name": "stdout",
     "output_type": "stream",
     "text": [
      " The mode is ModeResult(mode=np.int64(60), count=np.int64(1))\n"
     ]
    }
   ],
   "source": [
    "mode_fruits = stats.mode(fruits)\n",
    "mode_fruits\n",
    "print(\" The mode is \" + str(mode_fruits))"
   ]
  },
  {
   "cell_type": "markdown",
   "id": "36e03712",
   "metadata": {},
   "source": [
    "# Jaquar vs Panther"
   ]
  },
  {
   "cell_type": "markdown",
   "id": "7a56fea1",
   "metadata": {},
   "source": [
    "## Jaquar"
   ]
  },
  {
   "cell_type": "code",
   "execution_count": 20,
   "id": "a1db15d3",
   "metadata": {},
   "outputs": [
    {
     "data": {
      "text/plain": [
       "array([10.6,  9.1,  9.3,  9.8, 10.5, 10.4,  9.5, 11. , 10.4,  3. ,  9.8])"
      ]
     },
     "execution_count": 20,
     "metadata": {},
     "output_type": "execute_result"
    }
   ],
   "source": [
    "jaquar = np.array([10.6,9.1,9.3,9.8,10.5,10.4,9.5,11,10.4,3,9.8])\n",
    "jaquar"
   ]
  },
  {
   "cell_type": "code",
   "execution_count": 24,
   "id": "18ed452a",
   "metadata": {},
   "outputs": [
    {
     "name": "stdout",
     "output_type": "stream",
     "text": [
      "The mean is 9.399999999999999\n"
     ]
    }
   ],
   "source": [
    "jaquar_mean = np.mean(jaquar)\n",
    "jaquar_mean\n",
    "print( \"The mean is \" + str(jaquar_mean))"
   ]
  },
  {
   "cell_type": "code",
   "execution_count": 26,
   "id": "84e83493",
   "metadata": {},
   "outputs": [
    {
     "name": "stdout",
     "output_type": "stream",
     "text": [
      "The median is 9.8\n"
     ]
    }
   ],
   "source": [
    "jaquar_median = np.median(jaquar)\n",
    "jaquar_median\n",
    "print( \"The median is \" + str(jaquar_median))"
   ]
  },
  {
   "cell_type": "code",
   "execution_count": 29,
   "id": "5be23bf3",
   "metadata": {},
   "outputs": [
    {
     "name": "stdout",
     "output_type": "stream",
     "text": [
      "The mode is ModeResult(mode=np.float64(9.8), count=np.int64(2))\n"
     ]
    }
   ],
   "source": [
    "jaquar_mode = stats.mode(jaquar)\n",
    "jaquar_mode\n",
    "print( \"The mode is \" + str(jaquar_mode))"
   ]
  },
  {
   "cell_type": "code",
   "execution_count": 30,
   "id": "7f50d8c3",
   "metadata": {},
   "outputs": [
    {
     "name": "stdout",
     "output_type": "stream",
     "text": [
      "The range is 8.0\n"
     ]
    }
   ],
   "source": [
    "max_jaquar = np.max(jaquar)\n",
    "min_jaquar = np.min(jaquar)\n",
    "\n",
    "range_jaquar = max_jaquar - min_jaquar\n",
    "range_jaquar\n",
    "print( \"The range is \" + str(range_jaquar))"
   ]
  },
  {
   "cell_type": "code",
   "execution_count": 31,
   "id": "592ddbb9",
   "metadata": {},
   "outputs": [
    {
     "name": "stdout",
     "output_type": "stream",
     "text": [
      "The 1st quartile is 9.4\n"
     ]
    }
   ],
   "source": [
    "q1_jaquar = np.percentile(jaquar,25)\n",
    "q1_jaquar\n",
    "print( \"The 1st quartile is \" + str(q1_jaquar))"
   ]
  },
  {
   "cell_type": "code",
   "execution_count": 32,
   "id": "9b612a88",
   "metadata": {},
   "outputs": [
    {
     "name": "stdout",
     "output_type": "stream",
     "text": [
      "The 2nd percentile is 9.8\n"
     ]
    }
   ],
   "source": [
    "q2_jaquar = np.percentile(jaquar,50)\n",
    "q2_jaquar\n",
    "print( \"The 2nd percentile is \" + str(q2_jaquar))"
   ]
  },
  {
   "cell_type": "code",
   "execution_count": 33,
   "id": "8f29b392",
   "metadata": {},
   "outputs": [
    {
     "name": "stdout",
     "output_type": "stream",
     "text": [
      "The 3rd percentile is 10.45\n"
     ]
    }
   ],
   "source": [
    "q3_jaquar = np.percentile(jaquar,75)\n",
    "q3_jaquar\n",
    "print( \"The 3rd percentile is \" + str(q3_jaquar))"
   ]
  },
  {
   "cell_type": "code",
   "execution_count": 34,
   "id": "75daa994",
   "metadata": {},
   "outputs": [
    {
     "name": "stdout",
     "output_type": "stream",
     "text": [
      "The iqr is 1.049999999999999\n"
     ]
    }
   ],
   "source": [
    "iqr_jaquar = q3_jaquar - q1_jaquar\n",
    "iqr_jaquar\n",
    "print( \"The iqr is \" + str(iqr_jaquar))"
   ]
  },
  {
   "cell_type": "code",
   "execution_count": 36,
   "id": "7e12e007",
   "metadata": {},
   "outputs": [
    {
     "name": "stdout",
     "output_type": "stream",
     "text": [
      "The variance is 4.86\n"
     ]
    }
   ],
   "source": [
    "var_jaquar = np.var(jaquar,ddof=1)\n",
    "var_jaquar\n",
    "print( \"The variance is \" + str(var_jaquar))"
   ]
  },
  {
   "cell_type": "code",
   "execution_count": 37,
   "id": "66f76ce2",
   "metadata": {},
   "outputs": [
    {
     "name": "stdout",
     "output_type": "stream",
     "text": [
      "The sample standard deviation is 2.2045407685048604\n"
     ]
    }
   ],
   "source": [
    "samplestd_jaquar = np.std(jaquar,ddof=1)\n",
    "samplestd_jaquar\n",
    "print( \"The sample standard deviation is \" + str(samplestd_jaquar))"
   ]
  },
  {
   "cell_type": "markdown",
   "id": "7a1adfba",
   "metadata": {},
   "source": [
    "## Panther "
   ]
  },
  {
   "cell_type": "code",
   "execution_count": 39,
   "id": "03dbe24a",
   "metadata": {},
   "outputs": [
    {
     "data": {
      "text/plain": [
       "array([10.1, 11. ,  9.1, 20. ,  9.2, 10.8,  9.9,  9.2,  9.1,  9.1])"
      ]
     },
     "execution_count": 39,
     "metadata": {},
     "output_type": "execute_result"
    }
   ],
   "source": [
    "panther = np.array([10.1,11,9.1,20,9.2,10.8,9.9,9.2,9.1,9.1])\n",
    "panther"
   ]
  },
  {
   "cell_type": "code",
   "execution_count": 41,
   "id": "51ad3063",
   "metadata": {},
   "outputs": [
    {
     "name": "stdout",
     "output_type": "stream",
     "text": [
      "The mean is 10.75\n"
     ]
    }
   ],
   "source": [
    "panther_mean = np.mean(panther)\n",
    "panther_mean\n",
    "print(\"The mean is \" + str(panther_mean))"
   ]
  },
  {
   "cell_type": "code",
   "execution_count": 42,
   "id": "0adeca45",
   "metadata": {},
   "outputs": [
    {
     "name": "stdout",
     "output_type": "stream",
     "text": [
      "The median is 9.55\n"
     ]
    }
   ],
   "source": [
    "panther_median = np.median(panther)\n",
    "panther_median \n",
    "print(\"The median is \" + str(panther_median))"
   ]
  },
  {
   "cell_type": "code",
   "execution_count": 43,
   "id": "bc4bac84",
   "metadata": {},
   "outputs": [
    {
     "name": "stdout",
     "output_type": "stream",
     "text": [
      "The mode is ModeResult(mode=np.float64(9.1), count=np.int64(3))\n"
     ]
    }
   ],
   "source": [
    "panther_mode = stats.mode(panther)\n",
    "panther_mode\n",
    "print(\"The mode is \" + str(panther_mode))"
   ]
  },
  {
   "cell_type": "code",
   "execution_count": 45,
   "id": "b8fd4a73",
   "metadata": {},
   "outputs": [
    {
     "name": "stdout",
     "output_type": "stream",
     "text": [
      "The range is 10.9\n"
     ]
    }
   ],
   "source": [
    "max_panther = np.max(panther)\n",
    "min_panther = np.min(panther)\n",
    "\n",
    "range_panther = max_panther - min_panther\n",
    "range_panther\n",
    "print(\"The range is \" + str(range_panther))"
   ]
  },
  {
   "cell_type": "code",
   "execution_count": 46,
   "id": "1fc18e9c",
   "metadata": {},
   "outputs": [
    {
     "name": "stdout",
     "output_type": "stream",
     "text": [
      "The 1st percentile is 9.125\n"
     ]
    }
   ],
   "source": [
    "q1_panther = np.percentile(panther,25)\n",
    "q1_panther\n",
    "print( \"The 1st percentile is \" + str(q1_panther))"
   ]
  },
  {
   "cell_type": "code",
   "execution_count": 48,
   "id": "7e63eda4",
   "metadata": {},
   "outputs": [
    {
     "name": "stdout",
     "output_type": "stream",
     "text": [
      "The 2nd percentile is 9.55\n"
     ]
    }
   ],
   "source": [
    "q2_panther = np.percentile(panther,50)\n",
    "q2_panther\n",
    "print(\"The 2nd percentile is \" + str(q2_panther))"
   ]
  },
  {
   "cell_type": "code",
   "execution_count": 49,
   "id": "81dd1bd4",
   "metadata": {},
   "outputs": [
    {
     "name": "stdout",
     "output_type": "stream",
     "text": [
      "The 3rd percentile is 10.625\n"
     ]
    }
   ],
   "source": [
    "q3_panther = np.percentile(panther,75)\n",
    "q3_panther\n",
    "print(\"The 3rd percentile is \" + str(q3_panther))"
   ]
  },
  {
   "cell_type": "code",
   "execution_count": 50,
   "id": "f021dc71",
   "metadata": {},
   "outputs": [
    {
     "name": "stdout",
     "output_type": "stream",
     "text": [
      "The iqr is 1.5\n"
     ]
    }
   ],
   "source": [
    "iqr_panther = q3_panther - q1_panther\n",
    "iqr_panther\n",
    "print(\"The iqr is \" + str(iqr_panther))"
   ]
  },
  {
   "cell_type": "code",
   "execution_count": 51,
   "id": "d8f12edd",
   "metadata": {},
   "outputs": [
    {
     "name": "stdout",
     "output_type": "stream",
     "text": [
      "The variance is 11.082777777777777\n"
     ]
    }
   ],
   "source": [
    "var_panther = np.var(panther,ddof=1)\n",
    "var_panther\n",
    "print(\"The variance is \" + str(var_panther))"
   ]
  },
  {
   "cell_type": "code",
   "execution_count": 52,
   "id": "ebec7fae",
   "metadata": {},
   "outputs": [
    {
     "name": "stdout",
     "output_type": "stream",
     "text": [
      "The standard variance deviation is 3.3290806204983645\n"
     ]
    }
   ],
   "source": [
    "samplestd_panther = np.std(panther,ddof=1)\n",
    "samplestd_panther\n",
    "print(\"The standard variance deviation is \" + str(samplestd_panther))"
   ]
  }
 ],
 "metadata": {
  "kernelspec": {
   "display_name": "Python 3",
   "language": "python",
   "name": "python3"
  },
  "language_info": {
   "codemirror_mode": {
    "name": "ipython",
    "version": 3
   },
   "file_extension": ".py",
   "mimetype": "text/x-python",
   "name": "python",
   "nbconvert_exporter": "python",
   "pygments_lexer": "ipython3",
   "version": "3.13.2"
  }
 },
 "nbformat": 4,
 "nbformat_minor": 5
}
