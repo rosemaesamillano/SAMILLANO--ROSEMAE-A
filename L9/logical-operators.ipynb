{
 "cells": [
  {
   "cell_type": "markdown",
   "id": "396de0fa",
   "metadata": {},
   "source": [
    "# logical Operators <hr style=\"border:2.5px solid #FF69B4\"></hr>"
   ]
  },
  {
   "cell_type": "markdown",
   "id": "f469d42b",
   "metadata": {},
   "source": []
  },
  {
   "cell_type": "markdown",
   "id": "75b8795c",
   "metadata": {},
   "source": []
  },
  {
   "cell_type": "markdown",
   "id": "5c139f1b",
   "metadata": {},
   "source": [
    "Data Analyst: Rosemae A. Samillano <br>\n",
    "Department: Electrical Engineering"
   ]
  },
  {
   "cell_type": "markdown",
   "id": "f8445b19",
   "metadata": {},
   "source": [
    "# logical AND"
   ]
  },
  {
   "cell_type": "code",
   "execution_count": 2,
   "id": "b50f2b92",
   "metadata": {},
   "outputs": [
    {
     "name": "stdout",
     "output_type": "stream",
     "text": [
      "both are true\n"
     ]
    }
   ],
   "source": [
    "# a AND b must be true\n",
    "a = True\n",
    "b = True\n",
    "\n",
    "if a and b:\n",
    "    print(\"both are true\")\n",
    "elif not(a) and not(b):\n",
    "    print(\"both are false\")\n",
    "else:\n",
    "    print(\"at least one is false\")"
   ]
  },
  {
   "cell_type": "code",
   "execution_count": 14,
   "id": "c0712e60",
   "metadata": {},
   "outputs": [
    {
     "name": "stdout",
     "output_type": "stream",
     "text": [
      "35 is out of range.\n"
     ]
    }
   ],
   "source": [
    "# check if a is within range of 1 to 10\n",
    "a = 35\n",
    "\n",
    "if a > 0 and a <= 10:\n",
    "    print(str(a) + \" is within the range of 1 to 10.\")\n",
    "elif a > 10 and a <= 20:\n",
    "    print(str(a) + \" is within the range of 11 to 20.\")\n",
    "elif a > 20 and a <= 30:\n",
    "    print(str(a) + \" is within the range of 21 to 30.\")\n",
    "else:\n",
    "    print(str(a) + \" is out of range.\")\n"
   ]
  },
  {
   "cell_type": "markdown",
   "id": "16375e2d",
   "metadata": {},
   "source": [
    "# logical OR"
   ]
  },
  {
   "cell_type": "code",
   "execution_count": 15,
   "id": "63b0c078",
   "metadata": {},
   "outputs": [
    {
     "name": "stdout",
     "output_type": "stream",
     "text": [
      "both are False\n"
     ]
    }
   ],
   "source": [
    "# either a OR  b is True\n",
    "a = False\n",
    "b = False\n",
    "\n",
    "if a or b:\n",
    "    print(\"at least one is true\")\n",
    "else: \n",
    "    print(\"both are False\")"
   ]
  },
  {
   "cell_type": "code",
   "execution_count": 20,
   "id": "aabfd054",
   "metadata": {},
   "outputs": [
    {
     "name": "stdout",
     "output_type": "stream",
     "text": [
      "Bring an umbrella or stay indoors!\n"
     ]
    }
   ],
   "source": [
    "# Go outside or stay outdoors\n",
    "weather = \"rainy\"\n",
    "\n",
    "if(weather == \"rainy\") or (weather == \"stormy\"):\n",
    "    print(\"Bring an umbrella or stay indoors!\")\n",
    "elif(weather == \"sunny\") or (weather == \"clear\"):\n",
    "    print(\"it's a great day to go outside!\")\n",
    "else:\n",
    "    print(\"The weather is unpredictable today\")\n"
   ]
  },
  {
   "cell_type": "markdown",
   "id": "2b52d9b5",
   "metadata": {},
   "source": [
    "# logical NOT"
   ]
  },
  {
   "cell_type": "code",
   "execution_count": 21,
   "id": "61657b7b",
   "metadata": {},
   "outputs": [
    {
     "data": {
      "text/plain": [
       "True"
      ]
     },
     "execution_count": 21,
     "metadata": {},
     "output_type": "execute_result"
    }
   ],
   "source": [
    "# negates the logical state\n",
    "a = False\n",
    "not a"
   ]
  },
  {
   "cell_type": "code",
   "execution_count": 25,
   "id": "66a9963b",
   "metadata": {},
   "outputs": [
    {
     "name": "stdout",
     "output_type": "stream",
     "text": [
      "9 is even \n"
     ]
    }
   ],
   "source": [
    "# odd or even number\n",
    "a = 9\n",
    "if not(a%2 == 0):\n",
    "    print(str(a) + \" is even \")\n",
    "else:\n",
    "    print(str(a) + \" is odd \")"
   ]
  }
 ],
 "metadata": {
  "kernelspec": {
   "display_name": "Python 3",
   "language": "python",
   "name": "python3"
  },
  "language_info": {
   "codemirror_mode": {
    "name": "ipython",
    "version": 3
   },
   "file_extension": ".py",
   "mimetype": "text/x-python",
   "name": "python",
   "nbconvert_exporter": "python",
   "pygments_lexer": "ipython3",
   "version": "3.13.2"
  }
 },
 "nbformat": 4,
 "nbformat_minor": 5
}
