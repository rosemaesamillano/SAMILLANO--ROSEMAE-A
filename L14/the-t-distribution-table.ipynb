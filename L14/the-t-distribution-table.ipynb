{
 "cells": [
  {
   "cell_type": "markdown",
   "id": "2cd145f6",
   "metadata": {},
   "source": [
    "# THE T-DISTRIBUTION TABLE <hr style=\"border:2.5px solid #FF69B4 \"></hr>"
   ]
  },
  {
   "cell_type": "markdown",
   "id": "658954ec",
   "metadata": {},
   "source": [
    "Data Analyst: Rosemae A. Samillano <br>\n",
    "Department: Electrical Engineering"
   ]
  },
  {
   "cell_type": "code",
   "execution_count": 1,
   "id": "74066236",
   "metadata": {},
   "outputs": [],
   "source": [
    "# imports and packages\n",
    "import pandas as pd\n",
    "import numpy as np\n",
    "import matplotlib.pyplot as plt\n",
    "from scipy import stats"
   ]
  },
  {
   "cell_type": "code",
   "execution_count": 2,
   "id": "6e926263",
   "metadata": {},
   "outputs": [
    {
     "data": {
      "text/html": [
       "<div>\n",
       "<style scoped>\n",
       "    .dataframe tbody tr th:only-of-type {\n",
       "        vertical-align: middle;\n",
       "    }\n",
       "\n",
       "    .dataframe tbody tr th {\n",
       "        vertical-align: top;\n",
       "    }\n",
       "\n",
       "    .dataframe thead th {\n",
       "        text-align: right;\n",
       "    }\n",
       "</style>\n",
       "<table border=\"1\" class=\"dataframe\">\n",
       "  <thead>\n",
       "    <tr style=\"text-align: right;\">\n",
       "      <th></th>\n",
       "      <th>Sample</th>\n",
       "      <th>Voltage</th>\n",
       "    </tr>\n",
       "  </thead>\n",
       "  <tbody>\n",
       "    <tr>\n",
       "      <th>0</th>\n",
       "      <td>1</td>\n",
       "      <td>120.2</td>\n",
       "    </tr>\n",
       "    <tr>\n",
       "      <th>1</th>\n",
       "      <td>2</td>\n",
       "      <td>94.4</td>\n",
       "    </tr>\n",
       "    <tr>\n",
       "      <th>2</th>\n",
       "      <td>3</td>\n",
       "      <td>119.9</td>\n",
       "    </tr>\n",
       "    <tr>\n",
       "      <th>3</th>\n",
       "      <td>4</td>\n",
       "      <td>120.1</td>\n",
       "    </tr>\n",
       "    <tr>\n",
       "      <th>4</th>\n",
       "      <td>5</td>\n",
       "      <td>120.2</td>\n",
       "    </tr>\n",
       "    <tr>\n",
       "      <th>5</th>\n",
       "      <td>6</td>\n",
       "      <td>120.4</td>\n",
       "    </tr>\n",
       "    <tr>\n",
       "      <th>6</th>\n",
       "      <td>7</td>\n",
       "      <td>120.3</td>\n",
       "    </tr>\n",
       "    <tr>\n",
       "      <th>7</th>\n",
       "      <td>8</td>\n",
       "      <td>119.8</td>\n",
       "    </tr>\n",
       "    <tr>\n",
       "      <th>8</th>\n",
       "      <td>9</td>\n",
       "      <td>120.1</td>\n",
       "    </tr>\n",
       "    <tr>\n",
       "      <th>9</th>\n",
       "      <td>10</td>\n",
       "      <td>139.0</td>\n",
       "    </tr>\n",
       "  </tbody>\n",
       "</table>\n",
       "</div>"
      ],
      "text/plain": [
       "   Sample  Voltage\n",
       "0       1    120.2\n",
       "1       2     94.4\n",
       "2       3    119.9\n",
       "3       4    120.1\n",
       "4       5    120.2\n",
       "5       6    120.4\n",
       "6       7    120.3\n",
       "7       8    119.8\n",
       "8       9    120.1\n",
       "9      10    139.0"
      ]
     },
     "execution_count": 2,
     "metadata": {},
     "output_type": "execute_result"
    }
   ],
   "source": [
    "# load dataset\n",
    "df = pd.read_csv(r\"transformer-voltage-10-sample.csv\")\n",
    "df "
   ]
  },
  {
   "cell_type": "code",
   "execution_count": 3,
   "id": "47d9e759",
   "metadata": {},
   "outputs": [
    {
     "name": "stdout",
     "output_type": "stream",
     "text": [
      "<class 'pandas.core.frame.DataFrame'>\n",
      "RangeIndex: 10 entries, 0 to 9\n",
      "Data columns (total 2 columns):\n",
      " #   Column   Non-Null Count  Dtype  \n",
      "---  ------   --------------  -----  \n",
      " 0   Sample   10 non-null     int64  \n",
      " 1   Voltage  10 non-null     float64\n",
      "dtypes: float64(1), int64(1)\n",
      "memory usage: 292.0 bytes\n"
     ]
    }
   ],
   "source": [
    "# summary of dataframe\n",
    "df.info()"
   ]
  },
  {
   "cell_type": "code",
   "execution_count": 4,
   "id": "93da90e8",
   "metadata": {},
   "outputs": [
    {
     "data": {
      "text/html": [
       "<div>\n",
       "<style scoped>\n",
       "    .dataframe tbody tr th:only-of-type {\n",
       "        vertical-align: middle;\n",
       "    }\n",
       "\n",
       "    .dataframe tbody tr th {\n",
       "        vertical-align: top;\n",
       "    }\n",
       "\n",
       "    .dataframe thead th {\n",
       "        text-align: right;\n",
       "    }\n",
       "</style>\n",
       "<table border=\"1\" class=\"dataframe\">\n",
       "  <thead>\n",
       "    <tr style=\"text-align: right;\">\n",
       "      <th></th>\n",
       "      <th>Sample</th>\n",
       "      <th>Voltage</th>\n",
       "    </tr>\n",
       "  </thead>\n",
       "  <tbody>\n",
       "    <tr>\n",
       "      <th>count</th>\n",
       "      <td>10.00000</td>\n",
       "      <td>10.000000</td>\n",
       "    </tr>\n",
       "    <tr>\n",
       "      <th>mean</th>\n",
       "      <td>5.50000</td>\n",
       "      <td>119.440000</td>\n",
       "    </tr>\n",
       "    <tr>\n",
       "      <th>std</th>\n",
       "      <td>3.02765</td>\n",
       "      <td>10.612487</td>\n",
       "    </tr>\n",
       "    <tr>\n",
       "      <th>min</th>\n",
       "      <td>1.00000</td>\n",
       "      <td>94.400000</td>\n",
       "    </tr>\n",
       "    <tr>\n",
       "      <th>25%</th>\n",
       "      <td>3.25000</td>\n",
       "      <td>119.950000</td>\n",
       "    </tr>\n",
       "    <tr>\n",
       "      <th>50%</th>\n",
       "      <td>5.50000</td>\n",
       "      <td>120.150000</td>\n",
       "    </tr>\n",
       "    <tr>\n",
       "      <th>75%</th>\n",
       "      <td>7.75000</td>\n",
       "      <td>120.275000</td>\n",
       "    </tr>\n",
       "    <tr>\n",
       "      <th>max</th>\n",
       "      <td>10.00000</td>\n",
       "      <td>139.000000</td>\n",
       "    </tr>\n",
       "  </tbody>\n",
       "</table>\n",
       "</div>"
      ],
      "text/plain": [
       "         Sample     Voltage\n",
       "count  10.00000   10.000000\n",
       "mean    5.50000  119.440000\n",
       "std     3.02765   10.612487\n",
       "min     1.00000   94.400000\n",
       "25%     3.25000  119.950000\n",
       "50%     5.50000  120.150000\n",
       "75%     7.75000  120.275000\n",
       "max    10.00000  139.000000"
      ]
     },
     "execution_count": 4,
     "metadata": {},
     "output_type": "execute_result"
    }
   ],
   "source": [
    "# summary of statistics\n",
    "df.describe()"
   ]
  },
  {
   "cell_type": "code",
   "execution_count": 5,
   "id": "93d47035",
   "metadata": {},
   "outputs": [
    {
     "data": {
      "text/plain": [
       "np.float64(2.2621571628540993)"
      ]
     },
     "execution_count": 5,
     "metadata": {},
     "output_type": "execute_result"
    }
   ],
   "source": [
    "# t-critical for two-tailed test\n",
    "alpha = 0.05\n",
    "dof = df[\"Voltage\"].count()-1\n",
    "\n",
    "t_critical = stats.t.ppf(1-alpha/2,dof)\n",
    "t_critical"
   ]
  },
  {
   "cell_type": "code",
   "execution_count": 7,
   "id": "873c510e",
   "metadata": {},
   "outputs": [],
   "source": [
    "# confidence interval\n",
    "ci_lower, ci_upper = stats.t.interval(\n",
    "    confidence = 0.95,\n",
    "    df = df[\"Voltage\"].count()-1,\n",
    "    loc = df[\"Voltage\"].mean(),\n",
    "    scale = df[\"Voltage\"].std(ddof=1)/np.sqrt(df[\"Voltage\"].count())\n",
    ")"
   ]
  },
  {
   "cell_type": "code",
   "execution_count": 9,
   "id": "1e13c582",
   "metadata": {},
   "outputs": [
    {
     "data": {
      "text/plain": [
       "np.float64(111.8482838462108)"
      ]
     },
     "execution_count": 9,
     "metadata": {},
     "output_type": "execute_result"
    }
   ],
   "source": [
    "ci_lower"
   ]
  },
  {
   "cell_type": "code",
   "execution_count": 10,
   "id": "eac2cc09",
   "metadata": {},
   "outputs": [
    {
     "data": {
      "text/plain": [
       "np.float64(127.03171615378922)"
      ]
     },
     "execution_count": 10,
     "metadata": {},
     "output_type": "execute_result"
    }
   ],
   "source": [
    "ci_upper"
   ]
  },
  {
   "cell_type": "code",
   "execution_count": 8,
   "id": "f2ed932b",
   "metadata": {},
   "outputs": [
    {
     "name": "stdout",
     "output_type": "stream",
     "text": [
      "Confidence Interval = 111.85,127.03\n"
     ]
    }
   ],
   "source": [
    "print(\"Confidence Interval = \" + str(ci_lower.round(2)) + \",\" + str(ci_upper.round(2)))"
   ]
  },
  {
   "cell_type": "code",
   "execution_count": 11,
   "id": "d81c994d",
   "metadata": {},
   "outputs": [
    {
     "data": {
      "image/png": "[encoded data removed]",
      "text/plain": [
       "<Figure size 640x480 with 1 Axes>"
      ]
     },
     "metadata": {},
     "output_type": "display_data"
    }
   ],
   "source": [
    "# voltage distribution\n",
    "mean = df[\"Voltage\"].mean()\n",
    "std = df[\"Voltage\"].std(ddof=1)\n",
    "\n",
    "# x-axis\n",
    "x_min = df[\"Voltage\"].min()\n",
    "x_max = df[\"Voltage\"].max() + 5\n",
    "\n",
    "# normal distribution plot\n",
    "x = np.linspace(x_min,x_max,100)\n",
    "p = stats.norm.pdf(x,mean,std)\n",
    "plt.plot(x,p,linewidth=2)\n",
    "\n",
    "# histogram\n",
    "plt.hist(df[\"Voltage\"],bins=4,density=True)\n",
    "plt.title(\"Voltage Distribution\")\n",
    "plt.ylabel(\"Probability Density\")\n",
    "plt.xlabel(\"Voltage (V)\")\n",
    "\n",
    "# confidence interval\n",
    "plt.axvline(x=ci_lower,color=\"k\",linestyle=\"--\")\n",
    "plt.axvline(x=ci_upper,color=\"k\",linestyle=\"--\")\n",
    "plt.show()\n"
   ]
  }
 ],
 "metadata": {
  "kernelspec": {
   "display_name": "Python 3",
   "language": "python",
   "name": "python3"
  },
  "language_info": {
   "codemirror_mode": {
    "name": "ipython",
    "version": 3
   },
   "file_extension": ".py",
   "mimetype": "text/x-python",
   "name": "python",
   "nbconvert_exporter": "python",
   "pygments_lexer": "ipython3",
   "version": "3.13.2"
  }
 },
 "nbformat": 4,
 "nbformat_minor": 5
}
